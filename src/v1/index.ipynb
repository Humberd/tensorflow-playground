{
 "cells": [
  {
   "cell_type": "code",
   "execution_count": 13,
   "metadata": {
    "collapsed": true
   },
   "outputs": [],
   "source": [
    "import numpy as np\n",
    "import matplotlib.pyplot as plt\n",
    "import os\n",
    "import json\n",
    "import cv2\n",
    "\n",
    "IMG_WIDTH = 50\n",
    "IMG_HEIGHT = 50\n",
    "DATA_DIR = 'data'\n",
    "IMG_SAMPLES_DIR = os.path.join(DATA_DIR, 'samples')\n",
    "DATA_JOURNAL = os.path.join(DATA_DIR, 'journal.json')\n"
   ]
  },
  {
   "cell_type": "code",
   "execution_count": 14,
   "metadata": {},
   "outputs": [
    {
     "name": "stdout",
     "output_type": "stream",
     "text": [
      "Reading journal from data\\journal.json\n",
      "Read journal from data\\journal.json\n",
      "Total length: 2500\n"
     ]
    }
   ],
   "source": [
    "def read_json(file_path: str):\n",
    "    print(f'Reading journal from {file_path}')\n",
    "    with open(file_path, 'rb') as file:\n",
    "        content = file.read()\n",
    "        content_json = json.loads(content)\n",
    "        print(f'Read journal from {file_path}')\n",
    "        return content_json\n",
    "\n",
    "\n",
    "journal = read_json(DATA_JOURNAL)\n",
    "print(f'Total length: {len(journal)}')"
   ]
  },
  {
   "cell_type": "code",
   "execution_count": 15,
   "outputs": [
    {
     "name": "stdout",
     "output_type": "stream",
     "text": [
      "Shuffled and reduced journal length to 2500\n"
     ]
    }
   ],
   "source": [
    "np.random.shuffle(journal)\n",
    "all_samples_count = IMG_WIDTH * IMG_HEIGHT\n",
    "journal = journal[:all_samples_count]\n",
    "print(f'Shuffled and reduced journal length to {len(journal)}')"
   ],
   "metadata": {
    "collapsed": false
   }
  },
  {
   "cell_type": "code",
   "execution_count": 16,
   "metadata": {},
   "outputs": [
    {
     "name": "stdout",
     "output_type": "stream",
     "text": [
      "Reading 2500 images\n",
      "Read 0 of 2500 images\n",
      "Read 250 of 2500 images\n",
      "Read 500 of 2500 images\n",
      "Read 750 of 2500 images\n",
      "Read 1000 of 2500 images\n",
      "Read 1250 of 2500 images\n",
      "Read 1500 of 2500 images\n",
      "Read 1750 of 2500 images\n",
      "Read 2000 of 2500 images\n",
      "Read 2250 of 2500 images\n",
      "Read all 2500 images\n",
      "2500\n",
      "Train samples: 2000\n",
      "Test samples: 500\n"
     ]
    }
   ],
   "source": [
    "print(f'Reading {len(journal)} images')\n",
    "X = []\n",
    "y = []\n",
    "for i in range(len(journal)):\n",
    "    entry = journal[i]\n",
    "    image = cv2.imread(entry['src'], cv2.IMREAD_UNCHANGED)\n",
    "    image = np.array(image)\n",
    "    flat_image = image.flatten().astype(np.float32) / 255.\n",
    "    X.append(flat_image)\n",
    "    entry_x = entry['result']['x']\n",
    "    entry_y = entry['result']['y']\n",
    "    image_expectancy = np.array([entry_x, entry_y]) / [IMG_WIDTH, IMG_HEIGHT]\n",
    "    y.append(image_expectancy)\n",
    "    if not i % 250:\n",
    "        print(f'Read {i} of {len(journal)} images')\n",
    "\n",
    "print(f'Read all {len(journal)} images')\n",
    "\n",
    "test_samples_count = int(all_samples_count * 0.8)\n",
    "print(len(X))\n",
    "X_train = np.array(X[:test_samples_count])\n",
    "X_test = np.array(X[test_samples_count:])\n",
    "\n",
    "y_train = np.array(y[:test_samples_count])\n",
    "y_test = np.array(y[test_samples_count:])\n",
    "\n",
    "X = []\n",
    "y = []\n",
    "\n",
    "print(f'Train samples: {len(X_train)}')\n",
    "print(f'Test samples: {len(X_test)}')\n",
    "\n"
   ]
  },
  {
   "cell_type": "code",
   "execution_count": 17,
   "outputs": [],
   "source": [
    "import tensorflow as tf\n",
    "from tensorflow import keras\n",
    "\n",
    "model = keras.models.Sequential([\n",
    "    keras.layers.Dense(X_train[0].shape[0], activation='relu', name='layer1'),\n",
    "    keras.layers.Dense(2500, activation='relu', name='layer2'),\n",
    "    keras.layers.Dense(5000, activation='relu', name='layer4'),\n",
    "    keras.layers.Dense(2),\n",
    "])\n",
    "model.compile(optimizer='adam',\n",
    "              loss='mse',\n",
    "              metrics=[keras.metrics.MeanSquaredError(),\n",
    "                       keras.metrics.AUC(),]\n",
    "              )\n"
   ],
   "metadata": {
    "collapsed": false
   }
  },
  {
   "cell_type": "code",
   "execution_count": 19,
   "outputs": [
    {
     "name": "stdout",
     "output_type": "stream",
     "text": [
      "Epoch 1/3\n",
      "63/63 [==============================] - 15s 220ms/step - loss: 54.6991 - mean_squared_error: 54.6991 - auc: 0.5060 - val_loss: 0.1159 - val_mean_squared_error: 0.1159 - val_auc: 0.4392\n",
      "Epoch 2/3\n",
      "63/63 [==============================] - 13s 200ms/step - loss: 0.1022 - mean_squared_error: 0.1022 - auc: 0.4995 - val_loss: 0.0846 - val_mean_squared_error: 0.0846 - val_auc: 0.4369\n",
      "Epoch 3/3\n",
      "63/63 [==============================] - 13s 204ms/step - loss: 0.0990 - mean_squared_error: 0.0990 - auc: 0.4777 - val_loss: 0.0999 - val_mean_squared_error: 0.0999 - val_auc: 0.4177\n"
     ]
    },
    {
     "data": {
      "text/plain": "[<matplotlib.lines.Line2D at 0x241000c0ac0>]"
     },
     "execution_count": 19,
     "metadata": {},
     "output_type": "execute_result"
    },
    {
     "data": {
      "text/plain": "<Figure size 640x480 with 1 Axes>",
      "image/png": "[encoded data removed]"
     },
     "metadata": {},
     "output_type": "display_data"
    }
   ],
   "source": [
    "# model.predict(X_train[:1])\n",
    "history = model.fit(X_train, y_train, epochs=3,\n",
    "                    validation_data=(X_test, y_test))\n",
    "\n",
    "import matplotlib.pyplot as plt\n",
    "plt.plot(history.history['loss'])\n",
    "plt.plot(history.history['val_loss'])\n"
   ],
   "metadata": {
    "collapsed": false
   }
  },
  {
   "cell_type": "code",
   "execution_count": 25,
   "outputs": [
    {
     "name": "stdout",
     "output_type": "stream",
     "text": [
      "1/1 [==============================] - 0s 23ms/step\n",
      "[[17.91302264 31.22326136]]\n",
      "[[24. 42.]]\n"
     ]
    }
   ],
   "source": [
    "print(model.predict(X_test[:1])*[IMG_WIDTH, IMG_HEIGHT])\n",
    "print(y_test[:1]*[IMG_WIDTH, IMG_HEIGHT])\n"
   ],
   "metadata": {
    "collapsed": false
   }
  },
  {
   "cell_type": "code",
   "execution_count": 21,
   "outputs": [
    {
     "data": {
      "text/plain": "array([[ 2,  6],\n       [ 6, 12]])"
     },
     "execution_count": 21,
     "metadata": {},
     "output_type": "execute_result"
    }
   ],
   "source": [
    "arr = np.array([[1,2], [3,4]])\n",
    "arr * [2,3]\n"
   ],
   "metadata": {
    "collapsed": false
   }
  }
 ],
 "metadata": {
  "kernelspec": {
   "display_name": "Python 3 (ipykernel)",
   "language": "python",
   "name": "python3"
  },
  "language_info": {
   "codemirror_mode": {
    "name": "ipython",
    "version": 3
   },
   "file_extension": ".py",
   "mimetype": "text/x-python",
   "name": "python",
   "nbconvert_exporter": "python",
   "pygments_lexer": "ipython3",
   "version": "3.9.7"
  }
 },
 "nbformat": 4,
 "nbformat_minor": 1
}
