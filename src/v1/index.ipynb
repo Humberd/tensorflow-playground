{
 "cells": [
  {
   "cell_type": "code",
   "execution_count": 1,
   "metadata": {
    "collapsed": true
   },
   "outputs": [],
   "source": [
    "import numpy as np\n",
    "import matplotlib.pyplot as plt\n",
    "import os\n",
    "import json\n",
    "import cv2\n",
    "import tensorflow as tf\n",
    "\n",
    "\n",
    "IMG_WIDTH=400\n",
    "IMG_HEIGHT=230\n",
    "DATA_DIR = 'data'\n",
    "IMG_SAMPLES_DIR = os.path.join(DATA_DIR, 'samples')\n",
    "DATA_JOURNAL = os.path.join(DATA_DIR, 'journal.json')\n"
   ]
  },
  {
   "cell_type": "code",
   "execution_count": null,
   "metadata": {},
   "outputs": [],
   "source": [
    "def read_json(file_path: str):\n",
    "    print(f'Reading journal from {file_path}')\n",
    "    with open(file_path, 'rb') as file:\n",
    "        content = file.read()\n",
    "        content_json = json.loads(content)\n",
    "        print(f'Read journal from {file_path}')\n",
    "        return content_json\n",
    "\n",
    "journal = read_json(DATA_JOURNAL)\n",
    "print(f'Total length: {len(journal)}')"
   ]
  },
  {
   "cell_type": "code",
   "execution_count": null,
   "outputs": [],
   "source": [
    "np.random.shuffle(journal)\n",
    "journal = journal[:20000]\n",
    "print(f'Shuffled and reduced journal length to {len(journal)}')"
   ],
   "metadata": {
    "collapsed": false
   }
  },
  {
   "cell_type": "code",
   "execution_count": null,
   "metadata": {},
   "outputs": [],
   "source": [
    "print(f'Reading {len(journal)} images')\n",
    "X = []\n",
    "y = []\n",
    "for i in range(len(journal)):\n",
    "    entry = journal[i]\n",
    "    image = cv2.imread(entry['src'], cv2.IMREAD_UNCHANGED)\n",
    "    image = np.array(image)\n",
    "    flat_image = image.flatten().astype(np.float32) / 255.\n",
    "    X.append(flat_image)\n",
    "    entry_x = entry['result']['x']\n",
    "    entry_y = entry['result']['y']\n",
    "    image_expectancy = np.array([entry_x, entry_y]) / 255.\n",
    "    y.append(image_expectancy)\n",
    "    if not i % 250:\n",
    "        print(f'Read {i} of {len(journal)} images')\n",
    "\n",
    "print(f'Read all {len(journal)} images')"
   ]
  },
  {
   "cell_type": "code",
   "execution_count": null,
   "outputs": [],
   "source": [],
   "metadata": {
    "collapsed": false
   }
  }
 ],
 "metadata": {
  "kernelspec": {
   "display_name": "Python 3 (ipykernel)",
   "language": "python",
   "name": "python3"
  },
  "language_info": {
   "codemirror_mode": {
    "name": "ipython",
    "version": 3
   },
   "file_extension": ".py",
   "mimetype": "text/x-python",
   "name": "python",
   "nbconvert_exporter": "python",
   "pygments_lexer": "ipython3",
   "version": "3.9.7"
  }
 },
 "nbformat": 4,
 "nbformat_minor": 1
}
