{
 "cells": [
  {
   "cell_type": "code",
   "execution_count": 29,
   "metadata": {},
   "outputs": [
    {
     "name": "stdout",
     "output_type": "stream",
     "text": [
      "TensorFlow version: 2.11.0\n"
     ]
    }
   ],
   "source": [
    "\"\"\"\n",
    "https://www.tensorflow.org/tutorials/quickstart/beginner\n",
    "\"\"\"\n",
    "import tensorflow as tf\n",
    "import datetime\n",
    "\n",
    "print(\"TensorFlow version:\", tf.__version__)\n"
   ]
  },
  {
   "cell_type": "code",
   "execution_count": 30,
   "metadata": {},
   "outputs": [],
   "source": [
    "mnist = tf.keras.datasets.mnist\n",
    "\n",
    "(x_train, y_train), (x_test, y_test) = mnist.load_data()\n",
    "x_train, x_test = x_train / 255.0, x_test / 255.0\n"
   ]
  },
  {
   "cell_type": "code",
   "execution_count": 31,
   "metadata": {},
   "outputs": [],
   "source": [
    "model = tf.keras.models.Sequential([\n",
    "    tf.keras.layers.Flatten(input_shape=(28, 28)),\n",
    "    tf.keras.layers.Dense(128, activation='relu'),\n",
    "    tf.keras.layers.Dropout(0.2),\n",
    "    tf.keras.layers.Dense(10)\n",
    "])"
   ]
  },
  {
   "cell_type": "code",
   "execution_count": 32,
   "metadata": {},
   "outputs": [],
   "source": [
    "predictions = model(x_train[:1]).numpy()\n"
   ]
  },
  {
   "cell_type": "code",
   "execution_count": 33,
   "metadata": {},
   "outputs": [],
   "source": [
    "model.compile(optimizer='adam',\n",
    "              loss=tf.keras.losses.SparseCategoricalCrossentropy(from_logits=True),\n",
    "              metrics=['accuracy'])\n",
    "\n",
    "log_dir = \"../logs/fit/\" + datetime.datetime.now().strftime(\"%Y%m%d-%H%M%S\")\n",
    "tensorboard_callback = tf.keras.callbacks.TensorBoard(log_dir=log_dir, histogram_freq=1)\n"
   ]
  },
  {
   "cell_type": "code",
   "execution_count": 34,
   "metadata": {},
   "outputs": [
    {
     "name": "stdout",
     "output_type": "stream",
     "text": [
      "Epoch 1/10\n",
      "1875/1875 [==============================] - 4s 2ms/step - loss: 0.2942 - accuracy: 0.9146 - val_loss: 0.1401 - val_accuracy: 0.9581\n",
      "Epoch 2/10\n",
      "1875/1875 [==============================] - 3s 2ms/step - loss: 0.1439 - accuracy: 0.9572 - val_loss: 0.1038 - val_accuracy: 0.9684\n",
      "Epoch 3/10\n",
      "1875/1875 [==============================] - 4s 2ms/step - loss: 0.1084 - accuracy: 0.9669 - val_loss: 0.0862 - val_accuracy: 0.9731\n",
      "Epoch 4/10\n",
      "1875/1875 [==============================] - 3s 2ms/step - loss: 0.0904 - accuracy: 0.9726 - val_loss: 0.0768 - val_accuracy: 0.9760\n",
      "Epoch 5/10\n",
      "1875/1875 [==============================] - 3s 2ms/step - loss: 0.0779 - accuracy: 0.9757 - val_loss: 0.0784 - val_accuracy: 0.9767\n",
      "Epoch 6/10\n",
      "1875/1875 [==============================] - 3s 2ms/step - loss: 0.0669 - accuracy: 0.9787 - val_loss: 0.0707 - val_accuracy: 0.9782\n",
      "Epoch 7/10\n",
      "1875/1875 [==============================] - 3s 2ms/step - loss: 0.0593 - accuracy: 0.9812 - val_loss: 0.0714 - val_accuracy: 0.9796\n",
      "Epoch 8/10\n",
      "1875/1875 [==============================] - 3s 2ms/step - loss: 0.0542 - accuracy: 0.9826 - val_loss: 0.0763 - val_accuracy: 0.9775\n",
      "Epoch 9/10\n",
      "1875/1875 [==============================] - 3s 2ms/step - loss: 0.0484 - accuracy: 0.9842 - val_loss: 0.0748 - val_accuracy: 0.9791\n",
      "Epoch 10/10\n",
      "1875/1875 [==============================] - 3s 2ms/step - loss: 0.0461 - accuracy: 0.9853 - val_loss: 0.0739 - val_accuracy: 0.9773\n"
     ]
    },
    {
     "data": {
      "text/plain": "[<matplotlib.lines.Line2D at 0x23003737bb0>]"
     },
     "execution_count": 34,
     "metadata": {},
     "output_type": "execute_result"
    },
    {
     "data": {
      "text/plain": "<Figure size 640x480 with 1 Axes>",
      "image/png": "[encoded data removed]"
     },
     "metadata": {},
     "output_type": "display_data"
    }
   ],
   "source": [
    "history = model.fit(x_train, y_train, epochs=10,\n",
    "          validation_data=(x_test, y_test),\n",
    "          callbacks=[tensorboard_callback])\n",
    "\n",
    "import matplotlib.pyplot as plt\n",
    "plt.plot(history.history['loss'])\n",
    "plt.plot(history.history['val_loss'])\n"
   ]
  },
  {
   "cell_type": "code",
   "execution_count": 35,
   "metadata": {},
   "outputs": [
    {
     "name": "stdout",
     "output_type": "stream",
     "text": [
      "313/313 - 0s - loss: 0.0739 - accuracy: 0.9773 - 275ms/epoch - 880us/step\n"
     ]
    },
    {
     "data": {
      "text/plain": "[0.07387493550777435, 0.9772999882698059]"
     },
     "execution_count": 35,
     "metadata": {},
     "output_type": "execute_result"
    }
   ],
   "source": [
    "model.evaluate(x_test, y_test, verbose=2)\n"
   ]
  },
  {
   "cell_type": "code",
   "execution_count": 36,
   "metadata": {},
   "outputs": [
    {
     "data": {
      "text/plain": "<tf.Tensor: shape=(5, 10), dtype=float32, numpy=\narray([[1.26862112e-08, 7.30549857e-11, 2.44272456e-07, 3.90685200e-05,\n        1.05542821e-14, 1.91923366e-09, 6.54380399e-17, 9.99960542e-01,\n        8.67713623e-10, 7.00844112e-08],\n       [3.39306708e-11, 3.81203648e-07, 9.99999046e-01, 5.31545368e-07,\n        1.32812275e-23, 1.53841620e-10, 1.14453669e-10, 6.49949887e-17,\n        6.79620471e-10, 1.70826367e-19],\n       [3.18076907e-08, 9.99683142e-01, 1.20200166e-04, 3.74628621e-06,\n        4.79964547e-06, 1.99655847e-06, 1.59502215e-05, 7.19275340e-05,\n        9.81662815e-05, 3.54383900e-08],\n       [9.99927402e-01, 2.36750671e-11, 1.11887957e-05, 2.14993001e-09,\n        2.84816748e-09, 1.40654862e-07, 7.82277212e-08, 1.61692824e-05,\n        1.44428899e-10, 4.49746767e-05],\n       [1.19824875e-07, 4.37291557e-11, 2.08811639e-06, 1.01172307e-10,\n        9.95959222e-01, 9.65062030e-10, 2.81836705e-08, 4.64398636e-06,\n        1.34638725e-07, 4.03378857e-03]], dtype=float32)>"
     },
     "execution_count": 36,
     "metadata": {},
     "output_type": "execute_result"
    }
   ],
   "source": [
    "probability_model = tf.keras.Sequential([\n",
    "    model,\n",
    "    tf.keras.layers.Softmax()\n",
    "])\n",
    "probability_model(x_test[:5])\n"
   ]
  }
 ],
 "metadata": {
  "kernelspec": {
   "display_name": "Python 3 (ipykernel)",
   "language": "python",
   "name": "python3"
  },
  "language_info": {
   "codemirror_mode": {
    "name": "ipython",
    "version": 3
   },
   "file_extension": ".py",
   "mimetype": "text/x-python",
   "name": "python",
   "nbconvert_exporter": "python",
   "pygments_lexer": "ipython3",
   "version": "3.9.7"
  }
 },
 "nbformat": 4,
 "nbformat_minor": 1
}
