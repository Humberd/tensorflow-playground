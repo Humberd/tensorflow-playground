{
 "cells": [
  {
   "cell_type": "code",
   "execution_count": 1,
   "metadata": {},
   "outputs": [
    {
     "name": "stdout",
     "output_type": "stream",
     "text": [
      "TensorFlow version: 2.11.0\n"
     ]
    }
   ],
   "source": [
    "\"\"\"\n",
    "https://www.tensorflow.org/tutorials/quickstart/beginner\n",
    "\"\"\"\n",
    "import tensorflow as tf\n",
    "import datetime\n",
    "\n",
    "print(\"TensorFlow version:\", tf.__version__)\n"
   ]
  },
  {
   "cell_type": "code",
   "execution_count": 2,
   "metadata": {},
   "outputs": [],
   "source": [
    "mnist = tf.keras.datasets.mnist\n",
    "\n",
    "(x_train, y_train), (x_test, y_test) = mnist.load_data()\n",
    "x_train, x_test = x_train / 255.0, x_test / 255.0\n"
   ]
  },
  {
   "cell_type": "code",
   "execution_count": 3,
   "metadata": {},
   "outputs": [],
   "source": [
    "model = tf.keras.models.Sequential([\n",
    "    tf.keras.layers.Flatten(input_shape=(28, 28)),\n",
    "    tf.keras.layers.Dense(128, activation='relu'),\n",
    "    tf.keras.layers.Dropout(0.2),\n",
    "    tf.keras.layers.Dense(10)\n",
    "])"
   ]
  },
  {
   "cell_type": "code",
   "execution_count": 4,
   "metadata": {},
   "outputs": [],
   "source": [
    "predictions = model(x_train[:1]).numpy()\n"
   ]
  },
  {
   "cell_type": "code",
   "execution_count": 5,
   "metadata": {},
   "outputs": [],
   "source": [
    "model.compile(optimizer='adam',\n",
    "              loss=tf.keras.losses.SparseCategoricalCrossentropy(from_logits=True),\n",
    "              metrics=['accuracy'])\n",
    "\n",
    "log_dir = \"../logs/fit/\" + datetime.datetime.now().strftime(\"%Y%m%d-%H%M%S\")\n",
    "tensorboard_callback = tf.keras.callbacks.TensorBoard(log_dir=log_dir, histogram_freq=1)\n"
   ]
  },
  {
   "cell_type": "code",
   "execution_count": 10,
   "outputs": [
    {
     "name": "stdout",
     "output_type": "stream",
     "text": [
      "Epoch 1/10\n",
      "1875/1875 [==============================] - 3s 2ms/step - loss: 0.0228 - accuracy: 0.9922 - val_loss: 0.0853 - val_accuracy: 0.9790\n",
      "Epoch 2/10\n",
      "1875/1875 [==============================] - 3s 2ms/step - loss: 0.0234 - accuracy: 0.9923 - val_loss: 0.0821 - val_accuracy: 0.9802\n",
      "Epoch 3/10\n",
      "1875/1875 [==============================] - 3s 2ms/step - loss: 0.0237 - accuracy: 0.9918 - val_loss: 0.0810 - val_accuracy: 0.9805\n",
      "Epoch 4/10\n",
      "1875/1875 [==============================] - 3s 2ms/step - loss: 0.0238 - accuracy: 0.9920 - val_loss: 0.0821 - val_accuracy: 0.9801\n",
      "Epoch 5/10\n",
      "1875/1875 [==============================] - 3s 2ms/step - loss: 0.0209 - accuracy: 0.9926 - val_loss: 0.0891 - val_accuracy: 0.9788\n",
      "Epoch 6/10\n",
      "1875/1875 [==============================] - 3s 2ms/step - loss: 0.0230 - accuracy: 0.9921 - val_loss: 0.0898 - val_accuracy: 0.9793\n",
      "Epoch 7/10\n",
      "1875/1875 [==============================] - 3s 2ms/step - loss: 0.0197 - accuracy: 0.9927 - val_loss: 0.0910 - val_accuracy: 0.9807\n",
      "Epoch 8/10\n",
      "1875/1875 [==============================] - 3s 1ms/step - loss: 0.0202 - accuracy: 0.9927 - val_loss: 0.0965 - val_accuracy: 0.9790\n",
      "Epoch 9/10\n",
      "1875/1875 [==============================] - 3s 2ms/step - loss: 0.0203 - accuracy: 0.9927 - val_loss: 0.0978 - val_accuracy: 0.9792\n",
      "Epoch 10/10\n",
      "1875/1875 [==============================] - 3s 2ms/step - loss: 0.0191 - accuracy: 0.9935 - val_loss: 0.1006 - val_accuracy: 0.9796\n"
     ]
    },
    {
     "data": {
      "text/plain": "<matplotlib.legend.Legend at 0x192f5c422e0>"
     },
     "execution_count": 10,
     "metadata": {},
     "output_type": "execute_result"
    },
    {
     "data": {
      "text/plain": "<Figure size 640x480 with 1 Axes>",
      "image/png": "[encoded data removed]"
     },
     "metadata": {},
     "output_type": "display_data"
    }
   ],
   "source": [
    "history = model.fit(x_train, y_train, epochs=10,\n",
    "          validation_data=(x_test, y_test),\n",
    "          callbacks=[tensorboard_callback])\n",
    "\n",
    "import matplotlib.pyplot as plt\n",
    "plt.plot(history.history['loss'], label='loss')\n",
    "plt.plot(history.history['val_loss'], label='val_loss')\n",
    "plt.legend()\n"
   ],
   "metadata": {
    "collapsed": false
   }
  },
  {
   "cell_type": "code",
   "execution_count": 11,
   "metadata": {},
   "outputs": [
    {
     "name": "stdout",
     "output_type": "stream",
     "text": [
      "313/313 - 0s - loss: 0.1006 - accuracy: 0.9796 - 327ms/epoch - 1ms/step\n"
     ]
    },
    {
     "data": {
      "text/plain": "[0.10061038285493851, 0.9796000123023987]"
     },
     "execution_count": 11,
     "metadata": {},
     "output_type": "execute_result"
    }
   ],
   "source": [
    "model.evaluate(x_test, y_test, verbose=2)\n"
   ]
  },
  {
   "cell_type": "code",
   "execution_count": 8,
   "metadata": {},
   "outputs": [
    {
     "data": {
      "text/plain": "<tf.Tensor: shape=(5, 10), dtype=float32, numpy=\narray([[3.5866740e-11, 5.4674393e-11, 3.8625636e-08, 1.6827231e-05,\n        1.0217267e-14, 1.3105309e-09, 1.3033426e-15, 9.9998248e-01,\n        9.4896213e-10, 7.5877631e-07],\n       [1.3822192e-10, 6.5114600e-06, 9.9999344e-01, 6.8029955e-08,\n        7.9497504e-22, 5.5860794e-10, 4.5742306e-11, 2.0087693e-15,\n        5.2620586e-10, 2.6341279e-16],\n       [1.7346476e-07, 9.9993110e-01, 1.0176045e-05, 8.9058808e-08,\n        8.8179704e-06, 1.2055167e-06, 3.1682271e-06, 1.2638666e-05,\n        3.2623429e-05, 4.8988113e-08],\n       [9.9996364e-01, 3.9765610e-10, 6.0654264e-07, 3.6497396e-09,\n        1.1606954e-07, 3.9534957e-06, 2.0831740e-05, 6.9398980e-06,\n        3.5030567e-10, 3.8745588e-06],\n       [3.8819121e-09, 1.6439071e-11, 2.1902622e-07, 1.9213120e-09,\n        9.9994433e-01, 2.9538225e-09, 2.4662023e-07, 2.2855761e-07,\n        6.2900352e-10, 5.4979391e-05]], dtype=float32)>"
     },
     "execution_count": 8,
     "metadata": {},
     "output_type": "execute_result"
    }
   ],
   "source": [
    "probability_model = tf.keras.Sequential([\n",
    "    model,\n",
    "    tf.keras.layers.Softmax()\n",
    "])\n",
    "probability_model(x_test[:5])\n"
   ]
  }
 ],
 "metadata": {
  "kernelspec": {
   "display_name": "Python 3 (ipykernel)",
   "language": "python",
   "name": "python3"
  },
  "language_info": {
   "codemirror_mode": {
    "name": "ipython",
    "version": 3
   },
   "file_extension": ".py",
   "mimetype": "text/x-python",
   "name": "python",
   "nbconvert_exporter": "python",
   "pygments_lexer": "ipython3",
   "version": "3.9.7"
  }
 },
 "nbformat": 4,
 "nbformat_minor": 1
}
